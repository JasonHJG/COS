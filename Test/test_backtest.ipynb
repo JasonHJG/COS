{
 "cells": [
  {
   "cell_type": "code",
   "execution_count": 1,
   "metadata": {
    "collapsed": true
   },
   "outputs": [],
   "source": [
    "import sys\n",
    "import numpy as np\n",
    "import matplotlib.pyplot as plt\n",
    "import time\n",
    "% matplotlib inline"
   ]
  },
  {
   "cell_type": "code",
   "execution_count": 2,
   "metadata": {},
   "outputs": [
    {
     "name": "stdout",
     "output_type": "stream",
     "text": [
      "/Users/Kingther/COS_Lite/Test\r\n"
     ]
    }
   ],
   "source": [
    "!pwd"
   ]
  },
  {
   "cell_type": "code",
   "execution_count": 3,
   "metadata": {
    "collapsed": true
   },
   "outputs": [],
   "source": [
    "sys.path.append('/Users/Kingther/COS_Lite')"
   ]
  },
  {
   "cell_type": "code",
   "execution_count": 4,
   "metadata": {
    "collapsed": true
   },
   "outputs": [],
   "source": [
    "from Simulation import Ornstein_Uhlenbeck\n",
    "from Simulation import Generic_functions\n",
    "from Data import Trade_book\n",
    "from Data import Player\n",
    "from Model import Strategy\n",
    "from Model import SLA"
   ]
  },
  {
   "cell_type": "code",
   "execution_count": 10,
   "metadata": {},
   "outputs": [],
   "source": [
    "ou = Ornstein_Uhlenbeck()\n",
    "trade_cost = lambda x: Generic_functions.trading_cost(x, 10, 0.1)\n",
    "utility_func = lambda x: Generic_functions.utility_function(x, 0.0001)\n",
    "sla = SLA()\n",
    "strat = Strategy(sla)\n",
    "p1 = Player(price_process= ou, utility_function=utility_func, trading_cost=trade_cost, strategy=strat)"
   ]
  },
  {
   "cell_type": "code",
   "execution_count": 11,
   "metadata": {},
   "outputs": [
    {
     "name": "stdout",
     "output_type": "stream",
     "text": [
      "250001\n",
      "accuracy is :  0.26207312087874524\n",
      "time used is 15.308171033859253\n",
      "250001\n",
      "accuracy is :  0.4531478389006637\n",
      "time used is 115.95014095306396\n",
      "250001\n",
      "accuracy is :  0.44467353053936004\n",
      "time used is 188.45565176010132\n",
      "250001\n",
      "accuracy is :  0.3548160211474978\n",
      "time used is 311.457701921463\n",
      "250001\n",
      "accuracy is :  0.3387481470812689\n",
      "time used is 387.9759900569916\n",
      "250001\n",
      "accuracy is :  0.33873924442319703\n",
      "time used is 459.15056014060974\n"
     ]
    }
   ],
   "source": [
    "start = time.time()\n",
    "for i in range(250000):\n",
    "    p1.trade_greedy_one_step(.95)\n",
    "p1.update_strategy(250000, 1)    \n",
    "end = time.time()  \n",
    "print('time used is', end - start)\n",
    "\n",
    "start = time.time()\n",
    "for i in range(250000):\n",
    "    p1.trade_greedy_one_step(.75)\n",
    "p1.update_strategy(250000, 1)\n",
    "end = time.time()\n",
    "print('time used is', end - start)\n",
    "\n",
    "start = time.time()\n",
    "for i in range(250000):\n",
    "    p1.trade_greedy_one_step(.25)\n",
    "p1.update_strategy(250000, 1)   \n",
    "end = time.time()\n",
    "print('time used is', end - start)\n",
    "\n",
    "start = time.time()\n",
    "for i in range(250000):\n",
    "    p1.trade_greedy_one_step(.05)\n",
    "p1.update_strategy(250000, 1)    \n",
    "end = time.time()\n",
    "print('time used is', end - start)\n",
    "\n",
    "start = time.time()\n",
    "for i in range(250000):\n",
    "    p1.trade_greedy_one_step(.01)\n",
    "p1.update_strategy(250000, 1)\n",
    "end = time.time()\n",
    "print('time used is', end - start)\n",
    "\n",
    "start = time.time()\n",
    "for i in range(250000):\n",
    "    p1.trade_greedy_one_step(.01)\n",
    "p1.update_strategy(250000, 1) \n",
    "end = time.time()\n",
    "print('time used is', end - start)"
   ]
  },
  {
   "cell_type": "code",
   "execution_count": null,
   "metadata": {
    "collapsed": true
   },
   "outputs": [],
   "source": [
    "a = np.linspace(start=0,stop=100,num=41)\n",
    "b = []\n",
    "for i in a:\n",
    "    b.append(p1.strategy.learner.predict((i,0),[200, 100, 0, -100, -200]))"
   ]
  },
  {
   "cell_type": "code",
   "execution_count": null,
   "metadata": {},
   "outputs": [],
   "source": [
    "plt.plot(a,b)"
   ]
  },
  {
   "cell_type": "code",
   "execution_count": null,
   "metadata": {
    "collapsed": true
   },
   "outputs": [],
   "source": [
    "price = np.linspace(start=0,stop=100,num=21)\n",
    "q200 = []\n",
    "q100 = []\n",
    "q0 = []\n",
    "qn100 = []\n",
    "qn200 = []"
   ]
  },
  {
   "cell_type": "code",
   "execution_count": null,
   "metadata": {
    "collapsed": true
   },
   "outputs": [],
   "source": [
    "pos = 0\n",
    "for p in price:\n",
    "    q200.append(p1.strategy.learner.qval((p, pos),[200]))\n",
    "    q100.append(p1.strategy.learner.qval((p, pos),[100]))\n",
    "    q0.append(p1.strategy.learner.qval((p, pos),[0]))\n",
    "    qn100.append(p1.strategy.learner.qval((p, pos),[-100]))\n",
    "    qn200.append(p1.strategy.learner.qval((p, pos),[-200]))"
   ]
  },
  {
   "cell_type": "code",
   "execution_count": null,
   "metadata": {},
   "outputs": [],
   "source": [
    "plt.figure\n",
    "plt.plot(price, q200, label = '200')\n",
    "plt.plot(price, q100, label = '100')\n",
    "plt.plot(price, q0, label = '0')\n",
    "plt.plot(price, qn100, label = '-100')\n",
    "plt.plot(price, qn200, label = '-200')\n",
    "plt.legend(loc=0)"
   ]
  },
  {
   "cell_type": "code",
   "execution_count": null,
   "metadata": {
    "collapsed": true
   },
   "outputs": [],
   "source": []
  },
  {
   "cell_type": "markdown",
   "metadata": {},
   "source": [
    "## Backtest"
   ]
  },
  {
   "cell_type": "code",
   "execution_count": 12,
   "metadata": {},
   "outputs": [
    {
     "data": {
      "text/plain": [
       "<module 'BackTester.backtest' from '/Users/Kingther/COS_Lite/BackTester/backtest.py'>"
      ]
     },
     "execution_count": 12,
     "metadata": {},
     "output_type": "execute_result"
    }
   ],
   "source": [
    "from BackTester import backtest\n",
    "from importlib import reload\n",
    "reload(backtest)"
   ]
  },
  {
   "cell_type": "code",
   "execution_count": 13,
   "metadata": {},
   "outputs": [],
   "source": [
    "bt = backtest.BackTester(player=p1, price_process=Ornstein_Uhlenbeck())"
   ]
  },
  {
   "cell_type": "code",
   "execution_count": 14,
   "metadata": {},
   "outputs": [],
   "source": [
    "bt.backtest(initial_value=1e5,total_time=2500,trading_cost=trade_cost)"
   ]
  },
  {
   "cell_type": "code",
   "execution_count": 15,
   "metadata": {
    "scrolled": false
   },
   "outputs": [
    {
     "data": {
      "image/png": "[encoded data removed]",
      "text/plain": [
       "<matplotlib.figure.Figure at 0x11dafe1d0>"
      ]
     },
     "metadata": {},
     "output_type": "display_data"
    }
   ],
   "source": [
    "bt.plot()"
   ]
  },
  {
   "cell_type": "code",
   "execution_count": 16,
   "metadata": {
    "scrolled": true
   },
   "outputs": [
    {
     "data": {
      "text/html": [
       "<div>\n",
       "<style scoped>\n",
       "    .dataframe tbody tr th:only-of-type {\n",
       "        vertical-align: middle;\n",
       "    }\n",
       "\n",
       "    .dataframe tbody tr th {\n",
       "        vertical-align: top;\n",
       "    }\n",
       "\n",
       "    .dataframe thead th {\n",
       "        text-align: right;\n",
       "    }\n",
       "</style>\n",
       "<table border=\"1\" class=\"dataframe\">\n",
       "  <thead>\n",
       "    <tr style=\"text-align: right;\">\n",
       "      <th></th>\n",
       "      <th>annualized return</th>\n",
       "      <th>annualized vol</th>\n",
       "      <th>sharp ratio</th>\n",
       "      <th>hit rate</th>\n",
       "      <th>turnover</th>\n",
       "      <th>cost rate</th>\n",
       "      <th>max drawdown</th>\n",
       "      <th>annualized cost rate</th>\n",
       "    </tr>\n",
       "  </thead>\n",
       "  <tbody>\n",
       "    <tr>\n",
       "      <th>Player</th>\n",
       "      <td>0.230558</td>\n",
       "      <td>0.155398</td>\n",
       "      <td>1.48366</td>\n",
       "      <td>0.356102</td>\n",
       "      <td>107750</td>\n",
       "      <td>NaN</td>\n",
       "      <td>1</td>\n",
       "      <td>0.129464</td>\n",
       "    </tr>\n",
       "  </tbody>\n",
       "</table>\n",
       "</div>"
      ],
      "text/plain": [
       "       annualized return annualized vol sharp ratio  hit rate turnover  \\\n",
       "Player          0.230558       0.155398     1.48366  0.356102   107750   \n",
       "\n",
       "       cost rate max drawdown  annualized cost rate  \n",
       "Player       NaN            1              0.129464  "
      ]
     },
     "execution_count": 16,
     "metadata": {},
     "output_type": "execute_result"
    }
   ],
   "source": [
    "bt.print()"
   ]
  }
 ],
 "metadata": {
  "kernelspec": {
   "display_name": "Python 3",
   "language": "python",
   "name": "python3"
  },
  "language_info": {
   "codemirror_mode": {
    "name": "ipython",
    "version": 3
   },
   "file_extension": ".py",
   "mimetype": "text/x-python",
   "name": "python",
   "nbconvert_exporter": "python",
   "pygments_lexer": "ipython3",
   "version": "3.6.3"
  },
  "toc": {
   "nav_menu": {},
   "number_sections": true,
   "sideBar": true,
   "skip_h1_title": false,
   "title_cell": "Table of Contents",
   "title_sidebar": "Contents",
   "toc_cell": false,
   "toc_position": {},
   "toc_section_display": true,
   "toc_window_display": false
  }
 },
 "nbformat": 4,
 "nbformat_minor": 2
}
