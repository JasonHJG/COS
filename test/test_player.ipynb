{
 "cells": [
  {
   "cell_type": "code",
   "execution_count": 1,
   "metadata": {},
   "outputs": [],
   "source": [
    "import sys"
   ]
  },
  {
   "cell_type": "code",
   "execution_count": 2,
   "metadata": {},
   "outputs": [],
   "source": [
    "sys.path.append('/home/jingang/Desktop/COS/COS')"
   ]
  },
  {
   "cell_type": "code",
   "execution_count": 3,
   "metadata": {},
   "outputs": [],
   "source": [
    "from Data import Stock\n",
    "from Simulation import Dummy_liquidity_process\n",
    "from Simulation import Ornstein_Uhlenbeck\n",
    "from Simulation import Generic_functions\n",
    "from Data import Trade_book\n",
    "from Data import Player"
   ]
  },
  {
   "cell_type": "code",
   "execution_count": 4,
   "metadata": {},
   "outputs": [],
   "source": [
    "utility_function = Generic_functions.utility_function"
   ]
  },
  {
   "cell_type": "code",
   "execution_count": 5,
   "metadata": {},
   "outputs": [],
   "source": [
    "ou = Ornstein_Uhlenbeck(time=1)\n",
    "dlp = Dummy_liquidity_process(time=1)\n",
    "trade_cost = Generic_functions.trading_cost\n",
    "stock = Stock(ou, dlp, trade_cost)"
   ]
  },
  {
   "cell_type": "code",
   "execution_count": 6,
   "metadata": {},
   "outputs": [],
   "source": [
    "class Strategy:\n",
    "    def __init__(self):\n",
    "        print('Dummy class')\n",
    "        \n",
    "    def decide(self):\n",
    "        return 0\n",
    "    \n",
    "    def train(self, *args):\n",
    "        print('Dummy output')"
   ]
  },
  {
   "cell_type": "code",
   "execution_count": 7,
   "metadata": {},
   "outputs": [
    {
     "name": "stdout",
     "output_type": "stream",
     "text": [
      "Dummy class\n"
     ]
    }
   ],
   "source": [
    "strategy = Strategy()"
   ]
  },
  {
   "cell_type": "code",
   "execution_count": 8,
   "metadata": {},
   "outputs": [],
   "source": [
    "p1 = Player(stock=stock, utility_function=utility_function, strategy=strategy)"
   ]
  },
  {
   "cell_type": "code",
   "execution_count": 9,
   "metadata": {},
   "outputs": [
    {
     "data": {
      "text/plain": [
       "{0: [150.0, 0, 0, 0]}"
      ]
     },
     "execution_count": 9,
     "metadata": {},
     "output_type": "execute_result"
    }
   ],
   "source": [
    "p1.trade_book.book"
   ]
  },
  {
   "cell_type": "code",
   "execution_count": 10,
   "metadata": {},
   "outputs": [],
   "source": [
    "p1.progress()"
   ]
  },
  {
   "cell_type": "code",
   "execution_count": 11,
   "metadata": {},
   "outputs": [
    {
     "data": {
      "text/plain": [
       "{0: [150.0, 0, 0, 0]}"
      ]
     },
     "execution_count": 11,
     "metadata": {},
     "output_type": "execute_result"
    }
   ],
   "source": [
    "p1.trade_book.book"
   ]
  },
  {
   "cell_type": "code",
   "execution_count": 12,
   "metadata": {},
   "outputs": [
    {
     "data": {
      "text/plain": [
       "([0, 1], [150.0, 149.89846163280416], [0.5, 0.5])"
      ]
     },
     "execution_count": 12,
     "metadata": {},
     "output_type": "execute_result"
    }
   ],
   "source": [
    "p1.stock.get_history(5)"
   ]
  },
  {
   "cell_type": "code",
   "execution_count": 13,
   "metadata": {},
   "outputs": [],
   "source": [
    "step, price, liquid = p1.observe(1)"
   ]
  },
  {
   "cell_type": "code",
   "execution_count": 14,
   "metadata": {},
   "outputs": [],
   "source": [
    "p1.record(step[0],200, price[0], lambda x: p1.stock.trade_cost(x, 10, 0.01))"
   ]
  },
  {
   "cell_type": "code",
   "execution_count": 15,
   "metadata": {},
   "outputs": [
    {
     "data": {
      "text/plain": [
       "{0: [150.0, 0, 0, 0], 1: [149.89846163280416, 200, -30039.69232656083, 200]}"
      ]
     },
     "execution_count": 15,
     "metadata": {},
     "output_type": "execute_result"
    }
   ],
   "source": [
    "p1.trade_book.book"
   ]
  },
  {
   "cell_type": "code",
   "execution_count": 16,
   "metadata": {},
   "outputs": [
    {
     "name": "stdout",
     "output_type": "stream",
     "text": [
      "0\n",
      "1\n",
      "2\n",
      "3\n",
      "4\n",
      "5\n",
      "6\n",
      "7\n",
      "8\n",
      "9\n",
      "10\n",
      "11\n",
      "12\n",
      "13\n",
      "14\n",
      "15\n",
      "16\n",
      "17\n",
      "18\n",
      "19\n"
     ]
    }
   ],
   "source": [
    "for i in range(20):\n",
    "    print(i)\n",
    "    p1.progress()\n",
    "    step, price, liquid = p1.observe(1)\n",
    "    action = p1.action[i%5]\n",
    "    p1.record(step[0],action, price[0], lambda x: p1.stock.trade_cost(x, 10, 0.01))"
   ]
  },
  {
   "cell_type": "code",
   "execution_count": 17,
   "metadata": {},
   "outputs": [
    {
     "data": {
      "text/plain": [
       "{0: [150.0, 0, 0, 0],\n",
       " 1: [149.89846163280416, 200, -30039.69232656083, 200],\n",
       " 2: [160.0225630092551, 0, 1904.8202752901889, -200],\n",
       " 3: [150.62186414757483, -100, 16947.006690047674, -100],\n",
       " 4: [123.86128218944427, -100, 16947.006690047674, 0],\n",
       " 5: [105.72611378010326, 0, 6354.395312037348, 100],\n",
       " 6: [104.78957078775043, 200, -14663.518845512739, 200],\n",
       " 7: [88.53972769783857, 0, 2984.426694054975, -200],\n",
       " 8: [91.0982374064531, -100, 12074.250434700285, -100],\n",
       " 9: [106.04220241267043, -100, 12074.250434700285, 0],\n",
       " 10: [104.4241503041401, 0, 1611.8354042862757, 100],\n",
       " 11: [115.03451126636186, 200, -21455.0668489861, 200],\n",
       " 12: [135.88668192270114, 0, 5662.269535554129, -200],\n",
       " 13: [114.83254575913816, -100, 17125.524111467945, -100],\n",
       " 14: [122.18848823694394, -100, 17125.524111467945, 0],\n",
       " 15: [104.57085013150918, 0, 6648.439098317027, 100],\n",
       " 16: [135.55072291838064, 200, -20521.7054853591, 200],\n",
       " 17: [144.05421086213258, 0, 8229.136687067417, -200],\n",
       " 18: [154.62015698545295, -100, 23671.152385612713, -100],\n",
       " 19: [151.75494223519624, -100, 23671.152385612713, 0],\n",
       " 20: [125.70268440813194, 0, 11080.88394479952, 100],\n",
       " 21: [129.495972155277, 200, -14878.31048625588, 200]}"
      ]
     },
     "execution_count": 17,
     "metadata": {},
     "output_type": "execute_result"
    }
   ],
   "source": [
    "p1.trade_book.book"
   ]
  },
  {
   "cell_type": "code",
   "execution_count": 18,
   "metadata": {},
   "outputs": [
    {
     "data": {
      "text/plain": [
       "{0: 0.0,\n",
       " 1: -60.0,\n",
       " 2: 1904.8202752901889,\n",
       " 3: 1884.8202752901907,\n",
       " 4: 4560.878471103248,\n",
       " 5: 6354.395312037348,\n",
       " 6: 6294.395312037348,\n",
       " 7: 2984.426694054975,\n",
       " 8: 2964.426694054975,\n",
       " 9: 1470.030193433242,\n",
       " 10: 1611.8354042862757,\n",
       " 11: 1551.8354042862738,\n",
       " 12: 5662.269535554129,\n",
       " 13: 5642.269535554129,\n",
       " 14: 4906.675287773551,\n",
       " 15: 6648.439098317027,\n",
       " 16: 6588.439098317027,\n",
       " 17: 8229.136687067417,\n",
       " 18: 8209.136687067417,\n",
       " 19: 8495.65816209309,\n",
       " 20: 11080.88394479952,\n",
       " 21: 11020.88394479952}"
      ]
     },
     "execution_count": 18,
     "metadata": {},
     "output_type": "execute_result"
    }
   ],
   "source": [
    "p1.trade_book.net_worth()"
   ]
  }
 ],
 "metadata": {
  "kernelspec": {
   "display_name": "Python 3",
   "language": "python",
   "name": "python3"
  },
  "language_info": {
   "codemirror_mode": {
    "name": "ipython",
    "version": 3
   },
   "file_extension": ".py",
   "mimetype": "text/x-python",
   "name": "python",
   "nbconvert_exporter": "python",
   "pygments_lexer": "ipython3",
   "version": "3.6.5"
  }
 },
 "nbformat": 4,
 "nbformat_minor": 2
}
