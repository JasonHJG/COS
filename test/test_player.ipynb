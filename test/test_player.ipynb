{
 "cells": [
  {
   "cell_type": "code",
   "execution_count": 1,
   "metadata": {
    "collapsed": true
   },
   "outputs": [],
   "source": [
    "import sys"
   ]
  },
  {
   "cell_type": "code",
   "execution_count": 2,
   "metadata": {
    "collapsed": true
   },
   "outputs": [],
   "source": [
    "sys.path.append('/Users/jingang/PycharmProjects/RL_project/')"
   ]
  },
  {
   "cell_type": "code",
   "execution_count": 3,
   "metadata": {
    "collapsed": true
   },
   "outputs": [],
   "source": [
    "from Data import Stock\n",
    "from Simulation import Dummy_liquidity_process\n",
    "from Simulation import Ornstein_Uhlenbeck\n",
    "from Simulation import Generic_functions\n",
    "from Data import Trade_book\n",
    "from Data import Player"
   ]
  },
  {
   "cell_type": "code",
   "execution_count": 4,
   "metadata": {
    "collapsed": true
   },
   "outputs": [],
   "source": [
    "utility_function = lambda x: Generic_functions.utility_function(x, 0.2)"
   ]
  },
  {
   "cell_type": "code",
   "execution_count": 5,
   "metadata": {
    "collapsed": true
   },
   "outputs": [],
   "source": [
    "ou = Ornstein_Uhlenbeck(time=1)\n",
    "dlp = Dummy_liquidity_process(time=1)\n",
    "trade_cost = Generic_functions.trading_cost\n",
    "stock = Stock(ou, dlp, trade_cost)"
   ]
  },
  {
   "cell_type": "code",
   "execution_count": 6,
   "metadata": {
    "collapsed": true
   },
   "outputs": [],
   "source": [
    "class Strategy:\n",
    "    def __init__(self):\n",
    "        print('Dummy class')\n",
    "        \n",
    "    def decide(self):\n",
    "        return 0\n",
    "    \n",
    "    def train(self, *args):\n",
    "        print('Dummy output')"
   ]
  },
  {
   "cell_type": "code",
   "execution_count": 7,
   "metadata": {},
   "outputs": [
    {
     "name": "stdout",
     "output_type": "stream",
     "text": [
      "Dummy class\n"
     ]
    }
   ],
   "source": [
    "strategy = Strategy()"
   ]
  },
  {
   "cell_type": "code",
   "execution_count": 8,
   "metadata": {
    "collapsed": true
   },
   "outputs": [],
   "source": [
    "p1 = Player(stock=stock, utility_function=utility_function, strategy=strategy)"
   ]
  },
  {
   "cell_type": "code",
   "execution_count": 9,
   "metadata": {},
   "outputs": [
    {
     "data": {
      "text/plain": [
       "{0: [150.0, 0, 0, 0]}"
      ]
     },
     "execution_count": 9,
     "metadata": {},
     "output_type": "execute_result"
    }
   ],
   "source": [
    "p1.trade_book.book"
   ]
  },
  {
   "cell_type": "code",
   "execution_count": 10,
   "metadata": {},
   "outputs": [],
   "source": [
    "for i in range(20):\n",
    "    step, price, liquid = p1.observe(1)\n",
    "    action = p1.action[(i+1)%5]\n",
    "    p1.record(step[0],action, price[0], lambda x: p1.stock.trade_cost(x, 10, 0.01))\n",
    "    p1.progress()"
   ]
  },
  {
   "cell_type": "code",
   "execution_count": 11,
   "metadata": {},
   "outputs": [
    {
     "data": {
      "text/plain": [
       "{0: [150.0, -100, 14980.0, -100],\n",
       " 1: [144.24978239947271, -100, 14980.0, 0],\n",
       " 2: [132.31493300412606, 0, 1728.5066995873931, 100],\n",
       " 3: [137.71153030246327, 200, -25873.799360905261, 200],\n",
       " 4: [133.74338524525248, 0, 814.87768814523588, -200],\n",
       " 5: [112.36761248721537, -100, 12031.638936866773, -100],\n",
       " 6: [125.55824548683739, -100, 12031.638936866773, 0],\n",
       " 7: [118.15479199662587, 0, 196.15973720418515, 100],\n",
       " 8: [145.24045914546502, 200, -28911.932091888819, 200],\n",
       " 9: [109.8700101691464, 0, -6997.9300580595409, -200],\n",
       " 10: [111.70391079941744, -100, 4152.4610218822036, -100],\n",
       " 11: [110.43253820921059, -100, 4152.4610218822036, 0],\n",
       " 12: [139.41715363346299, 0, -9809.254341464095, 100],\n",
       " 13: [129.69721638306987, 200, -35808.697618078069, 200],\n",
       " 14: [116.57481337290288, 0, -12553.734943497493, -200],\n",
       " 15: [127.94964211067453, -100, 221.22926756996094, -100],\n",
       " 16: [124.03574939336016, -100, 221.22926756996094, 0],\n",
       " 17: [184.74370698873102, 0, -18273.141431303142, 100],\n",
       " 18: [185.43759643347781, 200, -55420.660717998704, 200],\n",
       " 19: [184.13817448306423, 0, -18653.025821385854, -200]}"
      ]
     },
     "execution_count": 11,
     "metadata": {},
     "output_type": "execute_result"
    }
   ],
   "source": [
    "p1.trade_book.book"
   ]
  },
  {
   "cell_type": "code",
   "execution_count": 12,
   "metadata": {},
   "outputs": [
    {
     "data": {
      "text/plain": [
       "{0: -20.0,\n",
       " 1: 555.0217600527285,\n",
       " 2: 1728.5066995873931,\n",
       " 3: 1668.5066995873931,\n",
       " 4: 814.87768814523588,\n",
       " 5: 794.87768814523588,\n",
       " 6: -524.18561181696532,\n",
       " 7: 196.15973720418515,\n",
       " 8: 136.15973720418697,\n",
       " 9: -6997.9300580595409,\n",
       " 10: -7017.9300580595409,\n",
       " 11: -6890.7927990388562,\n",
       " 12: -9809.254341464095,\n",
       " 13: -9869.2543414640968,\n",
       " 14: -12553.734943497493,\n",
       " 15: -12573.734943497493,\n",
       " 16: -12182.345671766056,\n",
       " 17: -18273.141431303142,\n",
       " 18: -18333.141431303142,\n",
       " 19: -18653.025821385854}"
      ]
     },
     "execution_count": 12,
     "metadata": {},
     "output_type": "execute_result"
    }
   ],
   "source": [
    "p1.trade_book.calculate_net_worth()"
   ]
  },
  {
   "cell_type": "code",
   "execution_count": 13,
   "metadata": {
    "collapsed": true
   },
   "outputs": [],
   "source": [
    "p1.calculate_utility()"
   ]
  },
  {
   "cell_type": "code",
   "execution_count": 14,
   "metadata": {},
   "outputs": [
    {
     "data": {
      "text/plain": [
       "{0: -32489.980693361042,\n",
       " 1: -136533.20539193289,\n",
       " 2: -420.0,\n",
       " 3: -73721.877929013615,\n",
       " 4: -60.0,\n",
       " 5: -175311.86223067943,\n",
       " 6: -51169.396836619169,\n",
       " 7: -419.99999999997641,\n",
       " 8: -5096657.8104838701,\n",
       " 9: -60.0,\n",
       " 10: -1489.2510041085834,\n",
       " 11: -854660.2390039356,\n",
       " 12: -420.00000000002365,\n",
       " 13: -723328.09087139205,\n",
       " 14: -60.0,\n",
       " 15: -14927.166930915064,\n",
       " 16: -3715870.0941990325,\n",
       " 17: -420.0,\n",
       " 18: -10552.4866919416}"
      ]
     },
     "execution_count": 14,
     "metadata": {},
     "output_type": "execute_result"
    }
   ],
   "source": [
    "p1.utility"
   ]
  },
  {
   "cell_type": "code",
   "execution_count": 15,
   "metadata": {},
   "outputs": [
    {
     "data": {
      "text/plain": [
       "{0: [150.0, -100, 14980.0, -100],\n",
       " 1: [144.24978239947271, -100, 14980.0, 0],\n",
       " 2: [132.31493300412606, 0, 1728.5066995873931, 100],\n",
       " 3: [137.71153030246327, 200, -25873.799360905261, 200],\n",
       " 4: [133.74338524525248, 0, 814.87768814523588, -200],\n",
       " 5: [112.36761248721537, -100, 12031.638936866773, -100],\n",
       " 6: [125.55824548683739, -100, 12031.638936866773, 0],\n",
       " 7: [118.15479199662587, 0, 196.15973720418515, 100],\n",
       " 8: [145.24045914546502, 200, -28911.932091888819, 200],\n",
       " 9: [109.8700101691464, 0, -6997.9300580595409, -200],\n",
       " 10: [111.70391079941744, -100, 4152.4610218822036, -100],\n",
       " 11: [110.43253820921059, -100, 4152.4610218822036, 0],\n",
       " 12: [139.41715363346299, 0, -9809.254341464095, 100],\n",
       " 13: [129.69721638306987, 200, -35808.697618078069, 200],\n",
       " 14: [116.57481337290288, 0, -12553.734943497493, -200],\n",
       " 15: [127.94964211067453, -100, 221.22926756996094, -100],\n",
       " 16: [124.03574939336016, -100, 221.22926756996094, 0],\n",
       " 17: [184.74370698873102, 0, -18273.141431303142, 100],\n",
       " 18: [185.43759643347781, 200, -55420.660717998704, 200],\n",
       " 19: [184.13817448306423, 0, -18653.025821385854, -200]}"
      ]
     },
     "execution_count": 15,
     "metadata": {},
     "output_type": "execute_result"
    }
   ],
   "source": [
    "p1.trade_book.book"
   ]
  }
 ],
 "metadata": {
  "kernelspec": {
   "display_name": "Python 3",
   "language": "python",
   "name": "python3"
  },
  "language_info": {
   "codemirror_mode": {
    "name": "ipython",
    "version": 3
   },
   "file_extension": ".py",
   "mimetype": "text/x-python",
   "name": "python",
   "nbconvert_exporter": "python",
   "pygments_lexer": "ipython3",
   "version": "3.6.3"
  },
  "toc": {
   "nav_menu": {},
   "number_sections": true,
   "sideBar": true,
   "skip_h1_title": false,
   "title_cell": "Table of Contents",
   "title_sidebar": "Contents",
   "toc_cell": false,
   "toc_position": {},
   "toc_section_display": true,
   "toc_window_display": false
  }
 },
 "nbformat": 4,
 "nbformat_minor": 2
}
