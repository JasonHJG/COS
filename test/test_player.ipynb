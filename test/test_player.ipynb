{
 "cells": [
  {
   "cell_type": "code",
   "execution_count": 1,
   "metadata": {
    "collapsed": true
   },
   "outputs": [],
   "source": [
    "import sys"
   ]
  },
  {
   "cell_type": "code",
   "execution_count": 2,
   "metadata": {
    "collapsed": true
   },
   "outputs": [],
   "source": [
    "sys.path.append('/Users/jingang/PycharmProjects/RL_project/')"
   ]
  },
  {
   "cell_type": "code",
   "execution_count": 3,
   "metadata": {
    "collapsed": true
   },
   "outputs": [],
   "source": [
    "from Data import Stock\n",
    "from Simulation import Dummy_liquidity_process\n",
    "from Simulation import Ornstein_Uhlenbeck\n",
    "from Simulation import Generic_functions\n",
    "from Data import Trade_book\n",
    "from Data import Player"
   ]
  },
  {
   "cell_type": "code",
   "execution_count": 4,
   "metadata": {
    "collapsed": true
   },
   "outputs": [],
   "source": [
    "utility_function = lambda x: Generic_functions.utility_function(x, 0.2)"
   ]
  },
  {
   "cell_type": "code",
   "execution_count": 5,
   "metadata": {
    "collapsed": true
   },
   "outputs": [],
   "source": [
    "ou = Ornstein_Uhlenbeck(time=1)\n",
    "dlp = Dummy_liquidity_process(time=1)\n",
    "trade_cost = Generic_functions.trading_cost\n",
    "stock = Stock(ou, dlp, trade_cost)"
   ]
  },
  {
   "cell_type": "code",
   "execution_count": 6,
   "metadata": {
    "collapsed": true
   },
   "outputs": [],
   "source": [
    "class Strategy:\n",
    "    def __init__(self):\n",
    "        print('Dummy class')\n",
    "        \n",
    "    def decide(self):\n",
    "        return 0\n",
    "    \n",
    "    def train(self, *args):\n",
    "        print('Dummy output')"
   ]
  },
  {
   "cell_type": "code",
   "execution_count": 7,
   "metadata": {},
   "outputs": [
    {
     "name": "stdout",
     "output_type": "stream",
     "text": [
      "Dummy class\n"
     ]
    }
   ],
   "source": [
    "strategy = Strategy()"
   ]
  },
  {
   "cell_type": "code",
   "execution_count": 8,
   "metadata": {
    "collapsed": true
   },
   "outputs": [],
   "source": [
    "p1 = Player(stock=stock, utility_function=utility_function, strategy=strategy)"
   ]
  },
  {
   "cell_type": "code",
   "execution_count": 9,
   "metadata": {},
   "outputs": [
    {
     "data": {
      "text/plain": [
       "{0: [150.0, 0, 0, 0]}"
      ]
     },
     "execution_count": 9,
     "metadata": {},
     "output_type": "execute_result"
    }
   ],
   "source": [
    "p1.trade_book.book"
   ]
  },
  {
   "cell_type": "code",
   "execution_count": 10,
   "metadata": {
    "collapsed": true
   },
   "outputs": [],
   "source": [
    "p1.progress()"
   ]
  },
  {
   "cell_type": "code",
   "execution_count": 11,
   "metadata": {},
   "outputs": [
    {
     "data": {
      "text/plain": [
       "{0: [150.0, 0, 0, 0]}"
      ]
     },
     "execution_count": 11,
     "metadata": {},
     "output_type": "execute_result"
    }
   ],
   "source": [
    "p1.trade_book.book"
   ]
  },
  {
   "cell_type": "code",
   "execution_count": 12,
   "metadata": {},
   "outputs": [
    {
     "data": {
      "text/plain": [
       "([0, 1], [150.0, 126.3569199263116], [0.5, 0.5])"
      ]
     },
     "execution_count": 12,
     "metadata": {},
     "output_type": "execute_result"
    }
   ],
   "source": [
    "p1.stock.get_history(5)"
   ]
  },
  {
   "cell_type": "code",
   "execution_count": 13,
   "metadata": {
    "collapsed": true
   },
   "outputs": [],
   "source": [
    "step, price, liquid = p1.observe(1)"
   ]
  },
  {
   "cell_type": "code",
   "execution_count": 14,
   "metadata": {
    "collapsed": true
   },
   "outputs": [],
   "source": [
    "p1.record(step[0],200, price[0], lambda x: p1.stock.trade_cost(x, 10, 0.01))"
   ]
  },
  {
   "cell_type": "code",
   "execution_count": 15,
   "metadata": {},
   "outputs": [
    {
     "data": {
      "text/plain": [
       "{0: [150.0, 0, 0, 0], 1: [126.3569199263116, 200, -25331.38398526232, 200]}"
      ]
     },
     "execution_count": 15,
     "metadata": {},
     "output_type": "execute_result"
    }
   ],
   "source": [
    "p1.trade_book.book"
   ]
  },
  {
   "cell_type": "code",
   "execution_count": 16,
   "metadata": {},
   "outputs": [],
   "source": [
    "for i in range(20):\n",
    "    p1.progress()\n",
    "    step, price, liquid = p1.observe(1)\n",
    "    action = p1.action[i%5]\n",
    "    p1.record(step[0],action, price[0], lambda x: p1.stock.trade_cost(x, 10, 0.01))"
   ]
  },
  {
   "cell_type": "code",
   "execution_count": 17,
   "metadata": {},
   "outputs": [
    {
     "data": {
      "text/plain": [
       "{0: [150.0, 0, 0, 0],\n",
       " 1: [126.3569199263116, 200, -25331.38398526232, 200],\n",
       " 2: [126.02301813250618, 0, -186.78035876108333, -200],\n",
       " 3: [136.95251331471499, -100, 13488.470972710416, -100],\n",
       " 4: [181.33649802411392, -100, 13488.470972710416, 0],\n",
       " 5: [212.04918573470786, 0, -7736.4476007603698, 100],\n",
       " 6: [285.81594070061902, 200, -64959.635740884172, 200],\n",
       " 7: [311.53303497532431, 0, -2713.0287458193125, -200],\n",
       " 8: [280.04300299097099, -100, 25271.271553277787, -100],\n",
       " 9: [287.75591489513369, -100, 25271.271553277787, 0],\n",
       " 10: [308.04172684509251, 0, -5552.9011312314651, 100],\n",
       " 11: [264.92923701714454, 200, -58598.748534660379, 200],\n",
       " 12: [208.71516305221871, 0, -16915.715924216638, -200],\n",
       " 13: [183.71069399479876, -100, 1435.3534752632368, -100],\n",
       " 14: [150.57343009042827, -100, 1435.3534752632368, 0],\n",
       " 15: [133.40428385223638, 0, -11925.0749099604, 100],\n",
       " 16: [122.17200204679655, 200, -36419.47531931971, 200],\n",
       " 17: [107.31144500541571, 0, -15017.186318236571, -200],\n",
       " 18: [82.492614614420731, -100, -6787.9248567944978, -100],\n",
       " 19: [68.481660525708136, -100, -6787.9248567944978, 0],\n",
       " 20: [71.526319702171762, 0, -13960.556827011675, 100],\n",
       " 21: [87.090934092653598, 200, -31438.743645542396, 200]}"
      ]
     },
     "execution_count": 17,
     "metadata": {},
     "output_type": "execute_result"
    }
   ],
   "source": [
    "p1.trade_book.book"
   ]
  },
  {
   "cell_type": "code",
   "execution_count": 18,
   "metadata": {},
   "outputs": [
    {
     "data": {
      "text/plain": [
       "{0: 0.0,\n",
       " 1: -60.0,\n",
       " 2: -186.78035876108333,\n",
       " 3: -206.78035876108333,\n",
       " 4: -4645.1788297009771,\n",
       " 5: -7736.4476007603698,\n",
       " 6: -7796.4476007603662,\n",
       " 7: -2713.0287458193125,\n",
       " 8: -2733.0287458193125,\n",
       " 9: -3504.3199362355808,\n",
       " 10: -5552.9011312314651,\n",
       " 11: -5612.9011312314688,\n",
       " 12: -16915.715924216638,\n",
       " 13: -16935.715924216638,\n",
       " 14: -13621.989533779592,\n",
       " 15: -11925.0749099604,\n",
       " 16: -11985.0749099604,\n",
       " 17: -15017.186318236571,\n",
       " 18: -15037.186318236571,\n",
       " 19: -13636.090909365312,\n",
       " 20: -13960.556827011675,\n",
       " 21: -14020.556827011675}"
      ]
     },
     "execution_count": 18,
     "metadata": {},
     "output_type": "execute_result"
    }
   ],
   "source": [
    "p1.trade_book.calculate_net_worth()"
   ]
  },
  {
   "cell_type": "code",
   "execution_count": 19,
   "metadata": {},
   "outputs": [],
   "source": [
    "p1.calculate_utility()"
   ]
  },
  {
   "cell_type": "code",
   "execution_count": 20,
   "metadata": {},
   "outputs": [
    {
     "data": {
      "text/plain": [
       "{0: 0,\n",
       " 1: -420.0,\n",
       " 2: -1734.1062955199834,\n",
       " 3: -60.0,\n",
       " 4: -1974376.4971550987,\n",
       " 5: -958685.5302637642,\n",
       " 6: -419.99999999995276,\n",
       " 7: -2579031.3066220805,\n",
       " 8: -60.0,\n",
       " 9: -60260.301231790705,\n",
       " 10: -421717.07244407246,\n",
       " 11: -420.00000000004729,\n",
       " 12: -12786665.039245425,\n",
       " 13: -60.0,\n",
       " 14: -1094764.5326774567,\n",
       " 15: -286255.00942932366,\n",
       " 16: -420.0,\n",
       " 17: -922402.07062812627,\n",
       " 18: -60.0,\n",
       " 19: -194905.73906714076,\n",
       " 20: -10852.279089055997,\n",
       " 21: -420.0}"
      ]
     },
     "execution_count": 20,
     "metadata": {},
     "output_type": "execute_result"
    }
   ],
   "source": [
    "p1.utility"
   ]
  },
  {
   "cell_type": "code",
   "execution_count": 21,
   "metadata": {},
   "outputs": [
    {
     "data": {
      "text/plain": [
       "{0: [150.0, 0, 0, 0],\n",
       " 1: [126.3569199263116, 200, -25331.38398526232, 200],\n",
       " 2: [126.02301813250618, 0, -186.78035876108333, -200],\n",
       " 3: [136.95251331471499, -100, 13488.470972710416, -100],\n",
       " 4: [181.33649802411392, -100, 13488.470972710416, 0],\n",
       " 5: [212.04918573470786, 0, -7736.4476007603698, 100],\n",
       " 6: [285.81594070061902, 200, -64959.635740884172, 200],\n",
       " 7: [311.53303497532431, 0, -2713.0287458193125, -200],\n",
       " 8: [280.04300299097099, -100, 25271.271553277787, -100],\n",
       " 9: [287.75591489513369, -100, 25271.271553277787, 0],\n",
       " 10: [308.04172684509251, 0, -5552.9011312314651, 100],\n",
       " 11: [264.92923701714454, 200, -58598.748534660379, 200],\n",
       " 12: [208.71516305221871, 0, -16915.715924216638, -200],\n",
       " 13: [183.71069399479876, -100, 1435.3534752632368, -100],\n",
       " 14: [150.57343009042827, -100, 1435.3534752632368, 0],\n",
       " 15: [133.40428385223638, 0, -11925.0749099604, 100],\n",
       " 16: [122.17200204679655, 200, -36419.47531931971, 200],\n",
       " 17: [107.31144500541571, 0, -15017.186318236571, -200],\n",
       " 18: [82.492614614420731, -100, -6787.9248567944978, -100],\n",
       " 19: [68.481660525708136, -100, -6787.9248567944978, 0],\n",
       " 20: [71.526319702171762, 0, -13960.556827011675, 100],\n",
       " 21: [87.090934092653598, 200, -31438.743645542396, 200]}"
      ]
     },
     "execution_count": 21,
     "metadata": {},
     "output_type": "execute_result"
    }
   ],
   "source": [
    "p1.trade_book.book"
   ]
  }
 ],
 "metadata": {
  "kernelspec": {
   "display_name": "Python 3",
   "language": "python",
   "name": "python3"
  },
  "language_info": {
   "codemirror_mode": {
    "name": "ipython",
    "version": 3
   },
   "file_extension": ".py",
   "mimetype": "text/x-python",
   "name": "python",
   "nbconvert_exporter": "python",
   "pygments_lexer": "ipython3",
   "version": "3.6.3"
  },
  "toc": {
   "nav_menu": {},
   "number_sections": true,
   "sideBar": true,
   "skip_h1_title": false,
   "title_cell": "Table of Contents",
   "title_sidebar": "Contents",
   "toc_cell": false,
   "toc_position": {},
   "toc_section_display": true,
   "toc_window_display": false
  }
 },
 "nbformat": 4,
 "nbformat_minor": 2
}
