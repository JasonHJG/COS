{
 "cells": [
  {
   "cell_type": "code",
   "execution_count": 1,
   "metadata": {
    "collapsed": true
   },
   "outputs": [],
   "source": [
    "import sys\n",
    "import numpy as np\n",
    "import matplotlib.pyplot as plt\n",
    "% matplotlib inline"
   ]
  },
  {
   "cell_type": "code",
   "execution_count": 2,
   "metadata": {},
   "outputs": [
    {
     "name": "stdout",
     "output_type": "stream",
     "text": [
      "/Users/jingang/PycharmProjects/RL_project/test\r\n"
     ]
    }
   ],
   "source": [
    "!pwd"
   ]
  },
  {
   "cell_type": "code",
   "execution_count": 3,
   "metadata": {},
   "outputs": [],
   "source": [
    "sys.path.append('/Users/jingang/PycharmProjects/RL_project/')"
   ]
  },
  {
   "cell_type": "code",
   "execution_count": 4,
   "metadata": {},
   "outputs": [],
   "source": [
    "from Data import Stock\n",
    "from Simulation import Dummy_liquidity_process\n",
    "from Simulation import Ornstein_Uhlenbeck\n",
    "from Simulation import Generic_functions\n",
    "from Data import Trade_book\n",
    "from Data import Player\n",
    "from Model import Strategy\n",
    "from Model import SLA"
   ]
  },
  {
   "cell_type": "code",
   "execution_count": 5,
   "metadata": {
    "collapsed": true
   },
   "outputs": [],
   "source": [
    "utility_function = lambda x: Generic_functions.utility_function(x, 0.0001)\n",
    "ou = Ornstein_Uhlenbeck(time=1)\n",
    "dlp = Dummy_liquidity_process(time=1)\n",
    "trade_cost = Generic_functions.trading_cost\n",
    "stock = Stock(ou, dlp, trade_cost)\n",
    "sla = SLA()\n",
    "strat = Strategy(sla)"
   ]
  },
  {
   "cell_type": "code",
   "execution_count": null,
   "metadata": {
    "collapsed": true
   },
   "outputs": [],
   "source": [
    "p1 = Player(stock, utility_function, strat, gamma = 0.99)"
   ]
  },
  {
   "cell_type": "code",
   "execution_count": null,
   "metadata": {
    "scrolled": false
   },
   "outputs": [
    {
     "name": "stdout",
     "output_type": "stream",
     "text": [
      "50001\n",
      "('accuracy is : ', 0.66281238214045668)\n",
      "50001\n",
      "('accuracy is : ', 0.55028397595976242)\n",
      "50001\n",
      "('accuracy is : ', 0.52807206518767846)\n",
      "50001\n",
      "('accuracy is : ', 0.50216602026837798)\n"
     ]
    }
   ],
   "source": [
    "for i in range(50000):\n",
    "    p1.trade_greedy_one_step(.75)\n",
    "p1.update_strategy(50000, 1)    \n",
    "for i in range(50000):\n",
    "    p1.trade_greedy_one_step(.5)\n",
    "p1.update_strategy(50000, 1)    \n",
    "for i in range(50000):\n",
    "    p1.trade_greedy_one_step(.2)\n",
    "p1.update_strategy(50000, 1)    \n",
    "for i in range(50000):\n",
    "    p1.trade_greedy_one_step(.05)\n",
    "p1.update_strategy(50000, 1)       \n",
    "for i in range(50000):\n",
    "    p1.trade_greedy_one_step(.01)\n",
    "p1.update_strategy(50000, 1)      \n",
    "for i in range(50000):\n",
    "    p1.trade_greedy_one_step(.01)\n",
    "p1.update_strategy(50000, 1)    "
   ]
  },
  {
   "cell_type": "code",
   "execution_count": null,
   "metadata": {
    "collapsed": true
   },
   "outputs": [],
   "source": [
    "a = np.array((0, 10, 20, 30, 40, 50, 60, 70, 80, 90, 100))\n",
    "b = []\n",
    "for i in a:\n",
    "    b.append(p1.strategy.learner.predict((i,0),[200, 100, 0, -100, -200]))"
   ]
  },
  {
   "cell_type": "code",
   "execution_count": null,
   "metadata": {},
   "outputs": [],
   "source": [
    "b"
   ]
  },
  {
   "cell_type": "code",
   "execution_count": null,
   "metadata": {},
   "outputs": [],
   "source": [
    "plt.plot(a,b)"
   ]
  },
  {
   "cell_type": "code",
   "execution_count": null,
   "metadata": {},
   "outputs": [],
   "source": [
    "p1.trade_book.book"
   ]
  },
  {
   "cell_type": "code",
   "execution_count": null,
   "metadata": {
    "collapsed": true
   },
   "outputs": [],
   "source": [
    "price = np.array((0, 25, 50, 75, 100))\n",
    "q_val = []"
   ]
  },
  {
   "cell_type": "code",
   "execution_count": null,
   "metadata": {
    "collapsed": true
   },
   "outputs": [],
   "source": [
    "for p in price:\n",
    "    q = p1.strategy.learner.qval((p,0),[200])\n",
    "    q_val.append(q)"
   ]
  },
  {
   "cell_type": "code",
   "execution_count": null,
   "metadata": {},
   "outputs": [],
   "source": [
    "plt.plot(price, q_val)"
   ]
  },
  {
   "cell_type": "code",
   "execution_count": null,
   "metadata": {
    "collapsed": true
   },
   "outputs": [],
   "source": [
    "price = np.array((0, 25, 50, 75, 100))\n",
    "q_val = []\n",
    "for p in price:\n",
    "    q = p1.strategy.learner.qval((p,0),[0])\n",
    "    q_val.append(q)"
   ]
  },
  {
   "cell_type": "code",
   "execution_count": null,
   "metadata": {},
   "outputs": [],
   "source": [
    "plt.plot(price, q_val)"
   ]
  },
  {
   "cell_type": "code",
   "execution_count": null,
   "metadata": {
    "collapsed": true
   },
   "outputs": [],
   "source": []
  }
 ],
 "metadata": {
  "kernelspec": {
   "display_name": "Python 2",
   "language": "python",
   "name": "python2"
  },
  "language_info": {
   "codemirror_mode": {
    "name": "ipython",
    "version": 2
   },
   "file_extension": ".py",
   "mimetype": "text/x-python",
   "name": "python",
   "nbconvert_exporter": "python",
   "pygments_lexer": "ipython2",
   "version": "2.7.13"
  },
  "toc": {
   "nav_menu": {},
   "number_sections": true,
   "sideBar": true,
   "skip_h1_title": false,
   "title_cell": "Table of Contents",
   "title_sidebar": "Contents",
   "toc_cell": false,
   "toc_position": {},
   "toc_section_display": true,
   "toc_window_display": false
  }
 },
 "nbformat": 4,
 "nbformat_minor": 2
}
